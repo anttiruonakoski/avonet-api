{
 "cells": [
  {
   "cell_type": "code",
   "execution_count": 53,
   "metadata": {},
   "outputs": [],
   "source": [
    "from enum import Enum\n",
    "from sqlalchemy import Boolean, Column, ForeignKey, Integer, String, Numeric, DateTime, Boolean\n",
    "import pandas as pd\n",
    "from sqlalchemy.orm import declarative_base\n",
    "\n",
    "Base = declarative_base()"
   ]
  },
  {
   "cell_type": "code",
   "execution_count": null,
   "metadata": {},
   "outputs": [],
   "source": [
    "class DtypeMap(Enum):\n",
    "    Integer: 0"
   ]
  },
  {
   "cell_type": "code",
   "execution_count": 46,
   "metadata": {},
   "outputs": [
    {
     "data": {
      "text/plain": [
       "{'float': 'float64',\n",
       " 'int': 'int64',\n",
       " 'datetime': 'datetime64[ns]',\n",
       " 'string': 'object',\n",
       " 'bool': 'bool'}"
      ]
     },
     "execution_count": 46,
     "metadata": {},
     "output_type": "execute_result"
    }
   ],
   "source": [
    "df = pd.DataFrame({'float': [1.0],\n",
    "                   'int': [1],\n",
    "                   'datetime': [pd.Timestamp('20180310')],\n",
    "                   'string': ['foo'],\n",
    "                   'bool': [True]})\n",
    "df.dtypes.astype(str).to_dict()"
   ]
  },
  {
   "cell_type": "code",
   "execution_count": 56,
   "metadata": {},
   "outputs": [],
   "source": [
    "def get_column(dtype: str) -> Column:\n",
    "    \"\"\"Very crude Pandas dtype string alias to SqlAlchemy CamelCase datatype mapping\n",
    "    Args:\n",
    "        dtype (str): Pandas dtype.astype(str)\n",
    "    Returns:\n",
    "        Column: SqlAlchemy ORM class\n",
    "    \"\"\"\n",
    "    dtype = str.lower(dtype)  \n",
    "      \n",
    "    if 'bool' in dtype:\n",
    "        cc_type = Boolean\n",
    "    elif 'int' in dtype:\n",
    "        cc_type = Integer\n",
    "    elif 'float' in dtype:\n",
    "        cc_type = Numeric\n",
    "    elif 'datetime' in dtype:\n",
    "        cc_type = DateTime\n",
    "    else:\n",
    "        cc_type = String \n",
    "    return Column(cc_type)"
   ]
  },
  {
   "cell_type": "code",
   "execution_count": 57,
   "metadata": {},
   "outputs": [
    {
     "ename": "TypeError",
     "evalue": "get_column() missing 1 required positional argument: 'dtype'",
     "output_type": "error",
     "traceback": [
      "\u001b[0;31m---------------------------------------------------------------------------\u001b[0m",
      "\u001b[0;31mTypeError\u001b[0m                                 Traceback (most recent call last)",
      "Cell \u001b[0;32mIn[57], line 1\u001b[0m\n\u001b[0;32m----> 1\u001b[0m a \u001b[39m=\u001b[39m get_column()\n\u001b[1;32m      2\u001b[0m b \u001b[39m=\u001b[39m get_column()\n",
      "\u001b[0;31mTypeError\u001b[0m: get_column() missing 1 required positional argument: 'dtype'"
     ]
    }
   ],
   "source": [
    "a = get_column()\n",
    "b = get_column()"
   ]
  },
  {
   "cell_type": "code",
   "execution_count": 20,
   "metadata": {},
   "outputs": [
    {
     "data": {
      "text/plain": [
       "String()"
      ]
     },
     "execution_count": 20,
     "metadata": {},
     "output_type": "execute_result"
    }
   ],
   "source": [
    "b.type"
   ]
  },
  {
   "cell_type": "code",
   "execution_count": 28,
   "metadata": {},
   "outputs": [
    {
     "data": {
      "text/plain": [
       "False"
      ]
     },
     "execution_count": 28,
     "metadata": {},
     "output_type": "execute_result"
    }
   ],
   "source": [
    "a is b"
   ]
  },
  {
   "cell_type": "code",
   "execution_count": 62,
   "metadata": {},
   "outputs": [
    {
     "name": "stderr",
     "output_type": "stream",
     "text": [
      "/tmp/ipykernel_571652/2422688511.py:1: SAWarning: This declarative base already contains a class with the same class name and module name as __main__.Bird, and will be replaced in the string-lookup table.\n",
      "  class Bird(Base):\n"
     ]
    }
   ],
   "source": [
    "class Bird(Base):\n",
    "    __tablename__ = \"birds\"\n",
    "    __table_args__ = {'extend_existing': True}\n",
    "     \n",
    "    id = Column(\n",
    "        Integer, primary_key=True, index=True, autoincrement=True, nullable=False\n",
    "    )\n",
    "\n",
    "    for v in ['taxon', 'beak', 'weight']:\n",
    "        vars()[v] = get_column('Int64')"
   ]
  },
  {
   "cell_type": "code",
   "execution_count": 63,
   "metadata": {},
   "outputs": [
    {
     "data": {
      "text/plain": [
       "<sqlalchemy.orm.attributes.InstrumentedAttribute at 0x7f29f5969300>"
      ]
     },
     "execution_count": 63,
     "metadata": {},
     "output_type": "execute_result"
    }
   ],
   "source": [
    "Bird.weight"
   ]
  },
  {
   "cell_type": "code",
   "execution_count": null,
   "metadata": {},
   "outputs": [],
   "source": []
  }
 ],
 "metadata": {
  "kernelspec": {
   "display_name": ".venv",
   "language": "python",
   "name": "python3"
  },
  "language_info": {
   "codemirror_mode": {
    "name": "ipython",
    "version": 3
   },
   "file_extension": ".py",
   "mimetype": "text/x-python",
   "name": "python",
   "nbconvert_exporter": "python",
   "pygments_lexer": "ipython3",
   "version": "3.10.10"
  },
  "orig_nbformat": 4,
  "vscode": {
   "interpreter": {
    "hash": "6f85892f662e1f6f8604138e7065b09d8619c0bc31ce0031c6087de74c9dbd74"
   }
  }
 },
 "nbformat": 4,
 "nbformat_minor": 2
}
